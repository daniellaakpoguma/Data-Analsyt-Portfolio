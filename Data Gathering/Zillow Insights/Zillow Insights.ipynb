{
 "cells": [
  {
   "cell_type": "code",
   "execution_count": 38,
   "id": "f0873f74",
   "metadata": {},
   "outputs": [],
   "source": [
    "from bs4 import BeautifulSoup\n",
    "import requests\n",
    "import pandas as pd\n",
    "import numpy as np"
   ]
  },
  {
   "cell_type": "code",
   "execution_count": 39,
   "id": "78e83cac",
   "metadata": {},
   "outputs": [],
   "source": [
    "URL = 'https://www.zillow.com/ottawa-on/'"
   ]
  },
  {
   "cell_type": "code",
   "execution_count": 40,
   "id": "ae9abd02",
   "metadata": {},
   "outputs": [],
   "source": [
    "# Headers for request\n",
    "headers = {\n",
    "    'User-Agent': 'Mozilla/5.0 (Windows NT 10.0; Win64; x64) AppleWebKit/537.36 (KHTML, like Gecko) Chrome/91.0.4472.124 Safari/537.36',\n",
    "    'Accept-Language': 'en-US,en;q=0.9',\n",
    "    'Accept-Encoding': 'gzip, deflate, br',\n",
    "    'Accept': 'text/html,application/xhtml+xml,application/xml;q=0.9,image/webp,image/apng,*/*;q=0.8',\n",
    "    'Connection': 'keep-alive',\n",
    "    'Upgrade-Insecure-Requests': '1'\n",
    "}"
   ]
  },
  {
   "cell_type": "code",
   "execution_count": 41,
   "id": "607efb80",
   "metadata": {},
   "outputs": [],
   "source": [
    "# HTTP Request\n",
    "webpage = requests.get(URL, headers=headers)"
   ]
  },
  {
   "cell_type": "code",
   "execution_count": 42,
   "id": "f0c96c9b",
   "metadata": {},
   "outputs": [],
   "source": [
    "# Soup Object containiang all data\n",
    "soup = BeautifulSoup(webpage.content, \"html.parser\")"
   ]
  },
  {
   "cell_type": "code",
   "execution_count": 43,
   "id": "e634a776",
   "metadata": {},
   "outputs": [
    {
     "name": "stdout",
     "output_type": "stream",
     "text": [
      "<!DOCTYPE html>\n",
      "\n",
      "<html lang=\"en\">\n",
      "<head>\n",
      "<meta charset=\"utf-8\"/>\n",
      "<meta content=\"width=device-width, initial-scale=1\" name=\"viewport\"/>\n",
      "<meta content=\"px-captcha\" name=\"description\"/>\n",
      "<title>Access to this page has been denied</title>\n",
      "</head>\n",
      "<body>\n",
      "<script>\n",
      "    /* PerimeterX assignments */\n",
      "    window._pxVid = '';\n",
      "    window._pxUuid = '51b74f9b-4eb5-11ef-a144-a64b4c3db939';\n",
      "    window._pxAppId = 'PXHYx10rg3';\n",
      "    window._pxMobile = false;\n",
      "    window._pxHostUrl = '/HYx10rg3/xhr';\n",
      "    window._pxCustomLogo = 'https://www.zillowstatic.com/s3/pfs/static/z-logo-default.svg';\n",
      "    window._pxJsClientSrc = '/HYx10rg3/init.js';\n",
      "    window._pxFirstPartyEnabled = true;\n",
      "    var pxCaptchaSrc = '/HYx10rg3/captcha/captcha.js?a=c&u=51b74f9b-4eb5-11ef-a144-a64b4c3db939&v=&m=0';\n",
      "\n",
      "    var script = document.createElement('script');\n",
      "    script.src = pxCaptchaSrc;\n",
      "    script.onerror = function () {\n",
      "        script = document.createElement('script');\n",
      "        script.src = 'https://captcha.px-cloud.net/PXHYx10rg3/captcha.js?a=c&amp;u=51b74f9b-4eb5-11ef-a144-a64b4c3db939&amp;v=&amp;m=0';\n",
      "        script.onerror = window._pxOnError;\n",
      "        document.head.appendChild(script);\n",
      "    };\n",
      "    window._pxOnError = function () {\n",
      "        var style = document.createElement('style');\n",
      "        style.innerText = '@import url(https://fonts.googleapis.com/css2?family=Roboto:ital,wght@0,100;0,300;0,400;0,500;0,700;0,900;1,100;1,300;1,400;1,500;1,700;1,900&display=swap);body{background-color:#fafbfc}.px-captcha-error-container{position:fixed;height:340px;background-color:#fff;font-family:Roboto,sans-serif}.px-captcha-error-header{color:#f0f1f2;font-size:29px;margin:67px 0 33px;font-weight:500;line-height:.83;text-align:center}.px-captcha-error-message{color:#f0f1f2;font-size:18px;margin:0 0 29px;line-height:1.33;text-align:center}.px-captcha-error-button{text-align:center;line-height:48px;width:253px;margin:auto;border-radius:50px;border:solid 1px #f0f1f2;font-size:20px;color:#f0f1f2}.px-captcha-error-wrapper{margin:18px 0 0}div.px-captcha-error{margin:auto;text-align:center;width:400px;height:30px;font-size:12px;background-color:#fcf0f2;color:#ce0e2d}img.px-captcha-error{margin:6px 8px -2px 0}.px-captcha-error-refid{border-top:solid 1px #f0eeee;height:27px;margin:13px 0 0;border-radius:0 0 3px 3px;background-color:#fafbfc;font-size:10px;line-height:2.5;text-align:center;color:#b1b5b8}@media (min-width:620px){.px-captcha-error-container{width:530px;top:50%;left:50%;margin-top:-170px;margin-left:-265px;border-radius:3px;box-shadow:0 2px 9px -1px rgba(0,0,0,.13)}}@media (min-width:481px) and (max-width:620px){.px-captcha-error-container{width:85%;top:50%;left:50%;margin-top:-170px;margin-left:-42.5%;border-radius:3px;box-shadow:0 2px 9px -1px rgba(0,0,0,.13)}}@media (max-width:480px){body{background-color:#fff}.px-captcha-error-header{color:#f0f1f2;font-size:29px;margin:55px 0 33px}.px-captcha-error-container{width:530px;top:50%;left:50%;margin-top:-170px;margin-left:-265px}.px-captcha-error-refid{position:fixed;width:100%;left:0;bottom:0;border-radius:0;font-size:14px;line-height:2}}@media (max-width:390px){div.px-captcha-error{font-size:10px}.px-captcha-error-refid{font-size:11px;line-height:2.5}}';\n",
      "        document.head.appendChild(style);\n",
      "        var div = document.createElement('div');\n",
      "        div.className = 'px-captcha-error-container';\n",
      "        div.innerHTML = '<div class=\"px-captcha-error-header\">Before we continue...</div><div class=\"px-captcha-error-message\">Press & Hold to confirm you are<br>a human (and not a bot).</div><div class=\"px-captcha-error-button\">Press & Hold</div><div class=\"px-captcha-error-wrapper\"><div class=\"px-captcha-error\"><img class=\"px-captcha-error\" src=\"data:image/png;base64,iVBORw0KGgoAAAANSUhEUgAAABMAAAAQCAMAAADDGrRQAAAABGdBTUEAALGPC/xhBQAAAAFzUkdCAK7OHOkAAABFUExURUdwTNYELOEGONQILd0AONwALtwEL+AAL9MFLfkJSNQGLdMJLdQJLdQGLdQKLtYFLNcELdUGLdcBL9gFL88OLdUFLNEOLglBhT4AAAAXdFJOUwC8CqgNIRgRoAS1dWWuR4RTjzgryZpYblfkcAAAAI9JREFUGNNdj+sWhCAIhAdvqGVa1r7/oy6RZ7eaH3D4ZACBIed9wlOOMtUnSrEmZ6cHa9YAIfsbCkWrdpi/c50Bk2CO9mNLdMAu03wJA3HpEnfpxbyOg6ruyx8JJi6KNstnslp1dbPd9GnqmuYq7mmcv1zjnbQw8cV0xzkqo+fX1zkjUOO7wnrInUTxJiruC3vtBNRoQQn2AAAAAElFTkSuQmCC\">Please check your internet connection' + (window._pxMobile ? '' : ' or disable your ad-blocker') + '.</div></div><div class=\"px-captcha-error-refid\">Reference ID ' + window._pxUuid + '</div>';\n",
      "        document.body.appendChild(div);\n",
      "        if (window._pxMobile) {\n",
      "            setTimeout(function() {\n",
      "                location.href = '/px/captcha_close?status=-1';\n",
      "            }, 5000);\n",
      "        }\n",
      "    };\n",
      "    document.head.appendChild(script);\n",
      "</script>\n",
      "</body>\n",
      "</html>\n",
      "\n"
     ]
    }
   ],
   "source": [
    "print(soup)"
   ]
  },
  {
   "cell_type": "code",
   "execution_count": 25,
   "id": "e0298052",
   "metadata": {},
   "outputs": [
    {
     "name": "stdout",
     "output_type": "stream",
     "text": [
      "[]\n"
     ]
    }
   ],
   "source": [
    "print(soup.find_all(\"div\", class_='StyledCard-c11n-8-102-0__sc-1w6p0lv-0 gNDnCS StyledPropertyCardBody-c11n-8-102-0__sc-1danayh-0 jCENYv PropertyCardWrapper__StyledPropertyCardBody-srp-8-102-0__sc-16e8gqd-4 dmbZpY'))"
   ]
  },
  {
   "cell_type": "code",
   "execution_count": null,
   "id": "60ca777c",
   "metadata": {},
   "outputs": [],
   "source": []
  }
 ],
 "metadata": {
  "kernelspec": {
   "display_name": "Python 3 (ipykernel)",
   "language": "python",
   "name": "python3"
  },
  "language_info": {
   "codemirror_mode": {
    "name": "ipython",
    "version": 3
   },
   "file_extension": ".py",
   "mimetype": "text/x-python",
   "name": "python",
   "nbconvert_exporter": "python",
   "pygments_lexer": "ipython3",
   "version": "3.11.7"
  }
 },
 "nbformat": 4,
 "nbformat_minor": 5
}
